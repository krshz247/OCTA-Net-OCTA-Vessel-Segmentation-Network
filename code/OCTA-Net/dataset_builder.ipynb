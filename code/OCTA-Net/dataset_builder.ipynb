{
 "cells": [
  {
   "cell_type": "code",
   "execution_count": 12,
   "metadata": {},
   "outputs": [],
   "source": [
    "import os\n",
    "import shutil\n",
    "import random"
   ]
  },
  {
   "cell_type": "code",
   "execution_count": 24,
   "metadata": {},
   "outputs": [],
   "source": [
    "root_img = \"/mnt/3AB8D1B3B8D16DBF/kourosh/models/OCTA-Net-OCTA-Vessel-Segmentation-Network/OCTA_3M/Projection Maps/OCTA/OCTA(OPL_BM)/\"\n",
    "root_gt = \"/mnt/3AB8D1B3B8D16DBF/kourosh/models/OCTA-Net-OCTA-Vessel-Segmentation-Network/OCTA_3M/Projection Maps/OCTA/gt/\""
   ]
  },
  {
   "cell_type": "code",
   "execution_count": 9,
   "metadata": {},
   "outputs": [],
   "source": [
    "img = os.listdir(root_img)\n",
    "gt = os.listdir(root_gt)"
   ]
  },
  {
   "cell_type": "code",
   "execution_count": 15,
   "metadata": {},
   "outputs": [],
   "source": [
    "train_img = random.sample(img, 180)\n",
    "train_gt = 1"
   ]
  },
  {
   "cell_type": "code",
   "execution_count": 28,
   "metadata": {},
   "outputs": [],
   "source": [
    "destination = \"/mnt/3AB8D1B3B8D16DBF/kourosh/models/OCTA-Net-OCTA-Vessel-Segmentation-Network/OCTA_3M/Projection Maps/OCTA/Train/img/\"\n",
    "destination_gt = \"/mnt/3AB8D1B3B8D16DBF/kourosh/models/OCTA-Net-OCTA-Vessel-Segmentation-Network/OCTA_3M/Projection Maps/OCTA/Train/gt/\""
   ]
  },
  {
   "cell_type": "code",
   "execution_count": 29,
   "metadata": {},
   "outputs": [],
   "source": [
    "for img in train_img:\n",
    "    shutil.move(root_gt + img, destination_gt)"
   ]
  },
  {
   "cell_type": "code",
   "execution_count": null,
   "metadata": {},
   "outputs": [],
   "source": []
  }
 ],
 "metadata": {
  "interpreter": {
   "hash": "eeaeb33377292a3059e49e5087aafedace430406de4462d85eb5ce5aa1337e22"
  },
  "kernelspec": {
   "display_name": "Python 3.8.13 ('learning')",
   "language": "python",
   "name": "python3"
  },
  "language_info": {
   "codemirror_mode": {
    "name": "ipython",
    "version": 3
   },
   "file_extension": ".py",
   "mimetype": "text/x-python",
   "name": "python",
   "nbconvert_exporter": "python",
   "pygments_lexer": "ipython3",
   "version": "3.8.13"
  },
  "orig_nbformat": 4
 },
 "nbformat": 4,
 "nbformat_minor": 2
}
